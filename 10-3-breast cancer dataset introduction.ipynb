{
 "cells": [
  {
   "cell_type": "markdown",
   "id": "87645e46",
   "metadata": {},
   "source": [
    "##\n",
    "### Breast Tumor Dataset\n",
    "##\n",
    "\n",
    "https://scikit-learn.org/stable/dataset/toy_dataset.html#breast-cancer-wisconsin-diagnostic-dataset\n",
    "\n",
    "or\n",
    "\n",
    "https://scikit-learn.org/stable/modules/generated/sklearn.datasets.load_breast_cancer.html\n",
    "\n",
    "######\n",
    "\n",
    "- Breast Cancer happens when cells in the breast grow and divide in an uncontrolled way, creating a mass of tissue called a tumor.\n",
    "  \n",
    "  - Breast Exam\n",
    "  - Mammogram (X-ray)\n",
    "  - Ultrasound\n",
    "  - Biospy\n",
    "  - MRI\n",
    "\n",
    "# Breast Cancer Dataset\n",
    "\n",
    "## Description:\n",
    "The breast cancer dataset is used to classify breast cancer tumors into two categories: malignant (M) or benign (B). It contains a set of measurements from breast cancer biopsies and is commonly used to evaluate classification algorithms.\n",
    "\n",
    "## Key Attributes:\n",
    "\n",
    "- **Classes:**\n",
    "  - **Malignant (M):** 212 samples\n",
    "  - **Benign (B):** 357 samples\n",
    "\n",
    "- **Total Samples:** 569\n",
    "\n",
    "- **Dimensionality:** 30 features\n",
    "\n",
    "## Features:\n",
    "The dataset consists of real-valued features that describe various attributes of the tumors. These features include:\n",
    "- Mean radius\n",
    "- Mean texture\n",
    "- Mean perimeter\n",
    "- Mean area\n",
    "- Mean smoothness\n",
    "- And others\n",
    "\n",
    "All features are positive and represent different measurements of the cell nuclei present in breast cancer biopsies.\n",
    "\n",
    "## Usage:\n",
    "This dataset is often used to demonstrate and test machine learning algorithms, especially classification algorithms like Support Vector Machines (SVM), Logistic Regression, and others. It provides a practical example of how machine learning can be applied to medical data to aid in disease diagnosis.\n",
    "\n",
    "## Source:\n",
    "The dataset is sourced from the UCI Machine Learning Repository and is included in scikit-learn's dataset module.\n"
   ]
  }
 ],
 "metadata": {
  "kernelspec": {
   "display_name": "Python 3 (ipykernel)",
   "language": "python",
   "name": "python3"
  },
  "language_info": {
   "codemirror_mode": {
    "name": "ipython",
    "version": 3
   },
   "file_extension": ".py",
   "mimetype": "text/x-python",
   "name": "python",
   "nbconvert_exporter": "python",
   "pygments_lexer": "ipython3",
   "version": "3.11.5"
  }
 },
 "nbformat": 4,
 "nbformat_minor": 5
}
